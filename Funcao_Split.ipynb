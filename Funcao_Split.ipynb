{
  "cells": [
    {
      "cell_type": "markdown",
      "metadata": {
        "colab_type": "text",
        "id": "view-in-github"
      },
      "source": [
        "<a href=\"https://colab.research.google.com/github/Epilef86/Python/blob/main/Funcao_Split.ipynb\" target=\"_parent\"><img src=\"https://colab.research.google.com/assets/colab-badge.svg\" alt=\"Open In Colab\"/></a>"
      ]
    },
    {
      "cell_type": "code",
      "execution_count": null,
      "metadata": {
        "colab": {
          "base_uri": "https://localhost:8080/"
        },
        "id": "bVZWo9RQCAp4",
        "outputId": "de20d1c9-b2ae-49a4-b9c5-8ae95122a284"
      },
      "outputs": [
        {
          "name": "stdout",
          "output_type": "stream",
          "text": [
            "pedro\n",
            "\n",
            "pedro\n",
            "['Ola', 'meu', 'nome', 'é', 'pedro']\n"
          ]
        }
      ],
      "source": [
        "\"\"\"\n",
        "Arquivo para .split() e .rsplit()\n",
        "\n",
        "Escreva uma função que tem como separador padrão caracter\n",
        "' ' e recebe uma string e devolve um lista contendo a string separada\n",
        "de acordo com a ocorrência do separador\n",
        "\n",
        "Exemplo\n",
        "frase = \"Ola meu nome é pedro\"\n",
        "split(frase)\n",
        "['Ola', 'meu', 'nome', 'é', 'pedro']\n",
        "\"\"\"\n",
        "def split(frase, separador = ' '):\n",
        "    lista = []\n",
        "    palavra = ''\n",
        "    i = 0\n",
        "\n",
        "    while i < len(frase):\n",
        "        if frase[i:i+len(separador)] != separador:\n",
        "            palavra += frase[i]\n",
        "          \n",
        "        else:\n",
        "            if palavra != '':\n",
        "                lista.append(palavra)\n",
        "            i += len(separador)\n",
        "            palavra = ''\n",
        "            continue\n",
        "\n",
        "        i+= 1\n",
        "  \n",
        "    print(palavra)\n",
        "    print(frase[i:])\n",
        "    print(palavra)\n",
        "    \n",
        "\n",
        "    if palavra != '':\n",
        "        lista.append(palavra)\n",
        "\n",
        "    return lista\n",
        "\n",
        "print(split('Ola meu nome é pedro', ' '))\n"
      ]
    },
    {
      "cell_type": "markdown",
      "metadata": {
        "id": "xoFvegJgIm9h"
      },
      "source": [
        "função usa separado ' ' e recebe string --> devolve a string separada\n",
        "\n",
        "----------------------------------------------------------------------\n",
        "split(frase, separador=' ':\n",
        "split(\"Ola meu nome é pedro\", separador=' ':\n",
        "\tlista=[]\n",
        "\tpalavra= ''\n",
        "\ti = 0\n",
        "\t\n",
        "\twhile i < len(frase) + 1 - len(separador):\n",
        "\twhile 0 < 20 + 1 - 1:\n",
        "\twhile i=0 < 20(True):\n",
        "\n",
        "\t\tif frase[i:i+len(separador)] != separador:\n",
        "\t\tif frase[0:1] != ' '(True):\n",
        "            \t\tpalavra += frase[i]\n",
        "\t\t\tpalavra = '' + frase[0]= 'O'\n",
        "\n",
        "\twhile i=1 < 20(True):\n",
        "\n",
        "\t\tif frase[i:i+len(separador)] != separador:\n",
        "\t\tif frase[1:2] != ' '(True):\n",
        "            \t\tpalavra += frase[1]\n",
        "\t\t\tpalavra = 'O' + frase[1]\n",
        "\t\t\tpalavra = 'O' + 'l' = 'Ol'\n",
        "\t\n",
        "\twhile i=2 < 20(True):\n",
        "\n",
        "\t\tif frase[i:i+len(separador)] != separador:\n",
        "\t\tif frase[2:3] != ' '(True):\n",
        "            \t\tpalavra += frase[2]\n",
        "\t\t\tpalavra = 'O' + frase[2]\n",
        "\t\t\tpalavra = 'Ol' + 'a' = 'Ola'\n",
        "\n",
        "\twhile i=3 < 20(True):\n",
        "\n",
        "\t\tif frase[i:i+len(separador)] != separador:\n",
        "\t\tif frase[3:4] != ' ':\n",
        "\t\tif frase[3:4] != ' '(False):\n",
        "            \t\t\n",
        "\n",
        "        \telse:\n",
        "            \t\tif palavra != '':\n",
        "\t\t\tif 'Ola' != '':\n",
        "               \t\t\t lista.append(palavra)\n",
        "\t\t\t\t lista.append('Ola')\n",
        "\n",
        "\tlista=['Ola']\n",
        "\t\t\ti = i + len(separador)\n",
        "\t\t\ti = 3 + 1 \n",
        "\t\t\ti = 4\n",
        "\n",
        "            \t\tpalavra = ''\n",
        "            \t\tcontinue  --> vai pro while, não conta\n",
        "\n",
        "\twhile i=4 < 20(True):\n",
        "\n",
        "\t\tif frase[i:i+len(separador)] != separador:\n",
        "\t\tif frase[4:5] != ' ':\n",
        "\t\tif frase[4:5] != ' '(True):\n",
        "\t\t\tpalavra += frase[4]\n",
        "\t\t\tpalavra = '' + frase[4]\n",
        "\t\t\tpalavra = '' + 'm' = 'm'\n",
        "            \t\t.\n",
        "\t\t\t.\n",
        "\t\t\t.\n",
        "\t\t\t.\n",
        "\t\t\t.\n",
        "\twhile i=19 < 20(True):\n",
        "\n",
        "\t\tif frase[i:i+len(separador)] != separador:\n",
        "\t\tif frase[19:20] != ' ':\n",
        "\t\tif frase[19:20] != ' '(True):\n",
        "\t\t\tpalavra += frase[19]\n",
        "\t\t\tpalavra = 'pedr' + frase[19]\n",
        "\t\t\tpalavra = 'pedr' + 'o' = 'pedro'\n",
        "\t\n",
        "\tlista = ['Ola', 'meu', 'nome', 'é', 'pedro']\n",
        "\tpalavra = 'pedro'\n",
        "\n",
        "\twhile i < len(frase) + 1 - len(separador):\n",
        "        while i=20 < 20 \n",
        "-----------------------------------------------------------------------\n",
        "\tpalavra = palavra + frase[20:]\n",
        "\tpalavra = pedro + ''\n",
        "\tpalavra = 'pedro'\n",
        "\n",
        "\tif 'pedro' != '':\n",
        "\t\tlista = ['pedro']\n",
        "\n",
        "\tretunr lista\n",
        "\t"
      ]
    },
    {
      "cell_type": "code",
      "execution_count": null,
      "metadata": {
        "colab": {
          "base_uri": "https://localhost:8080/"
        },
        "id": "JRaoqhieHg5N",
        "outputId": "83e171d0-709e-47a9-d2ab-ac70f30b02cf"
      },
      "outputs": [
        {
          "data": {
            "text/plain": [
              "['Ola', 'meu', 'nome', 'é', 'pedro']"
            ]
          },
          "execution_count": 38,
          "metadata": {},
          "output_type": "execute_result"
        }
      ],
      "source": [
        "split(\"Ola meu nome é pedro\", separador = ' ')"
      ]
    }
  ],
  "metadata": {
    "colab": {
      "authorship_tag": "ABX9TyNcNLlz38jFpYzTBFcLKw+v",
      "include_colab_link": true,
      "provenance": []
    },
    "kernelspec": {
      "display_name": "Python 3",
      "name": "python3"
    },
    "language_info": {
      "name": "python"
    }
  },
  "nbformat": 4,
  "nbformat_minor": 0
}
